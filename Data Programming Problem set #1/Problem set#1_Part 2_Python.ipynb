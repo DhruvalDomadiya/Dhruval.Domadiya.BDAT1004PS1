{
 "cells": [
  {
   "cell_type": "markdown",
   "id": "d8bbdf2f",
   "metadata": {},
   "source": [
    "# <font color='#004b87'> Problem set #1 Part 2 (Python Programming)</font>"
   ]
  },
  {
   "cell_type": "markdown",
   "id": "6a02fb21",
   "metadata": {},
   "source": [
    "# Question 6"
   ]
  },
  {
   "cell_type": "markdown",
   "id": "b360f157",
   "metadata": {},
   "source": [
    "<h4>You can turn a word into pig-Latin using the following two rules (simplified):\n",
    "<li> If the word starts with a consonant, move that letter to the end and append 'ay'. For example, 'happy' becomes 'appyhay' and 'pencil' becomes 'encilpay'.</li>\n",
    "<li> If the word starts with a vowel, simply append 'way' to the end of the word. For example, 'enter' becomes 'enterway' and 'other' becomes 'otherway' . For our purposes, there are 5 vowels: a, e, i, o, u (so we count y as a consonant).</li><br/>\n",
    "Write a function pig() that takes a word (i.e., a string) as input and returns its pig-Latin form.Your function should still work if the input word contains upper case characters. Your output should always be lower case however.</h4>"
   ]
  },
  {
   "cell_type": "code",
   "execution_count": 1,
   "id": "f0d7bd54",
   "metadata": {},
   "outputs": [],
   "source": [
    "def pig(string):\n",
    "    \n",
    "    #Convert string into lowercase\n",
    "    str = string.lower()\n",
    "    \n",
    "    #Check the first character of a string\n",
    "    if str[0] in 'aeiou':\n",
    "        print(str +'way')\n",
    "    \n",
    "    else:\n",
    "        print(str[1:] + str[0] + 'ay')"
   ]
  },
  {
   "cell_type": "code",
   "execution_count": 2,
   "id": "13174290",
   "metadata": {},
   "outputs": [
    {
     "name": "stdout",
     "output_type": "stream",
     "text": [
      "enterway\n"
     ]
    }
   ],
   "source": [
    "pig('Enter')"
   ]
  },
  {
   "cell_type": "code",
   "execution_count": 3,
   "id": "008fa0b9",
   "metadata": {},
   "outputs": [
    {
     "name": "stdout",
     "output_type": "stream",
     "text": [
      "appyhay\n"
     ]
    }
   ],
   "source": [
    "pig('Happy')"
   ]
  },
  {
   "cell_type": "markdown",
   "id": "12e86a69",
   "metadata": {},
   "source": [
    "# Question 7"
   ]
  },
  {
   "cell_type": "markdown",
   "id": "7a8b6d8f",
   "metadata": {},
   "source": [
    "<h4>File bloodtype1.txt records blood-types of patients (A, B, AB, O or OO) at a clinic.<br/> Write a function bldcount() that reads the file with name name and reports (i.e., prints) how many patients there are in each bloodtype.<h4>"
   ]
  },
  {
   "cell_type": "code",
   "execution_count": 4,
   "id": "19ee02c7",
   "metadata": {},
   "outputs": [],
   "source": [
    "def bldcount(name):\n",
    "    #Open the file with read mode and split contents into list of words using split() method\n",
    "    file = open(name,\"r\")\n",
    "    con = file.read()\n",
    "    List = con.split() \n",
    "    #print(List)\n",
    "   \n",
    "    #Make a set for list items to get unique items\n",
    "    S = set(List)\n",
    "    \n",
    "    #Universal list of blood type\n",
    "    L = ['A','B','AB','O','OO']\n",
    "    for j in L:\n",
    "        if j not in S:\n",
    "            S.add(j)\n",
    "   \n",
    "\n",
    "    for i in sorted(S):\n",
    "        if List.count(i)==0:\n",
    "            print(\"There is no patient of blood type\", i)\n",
    "        elif List.count(i)==1 :\n",
    "            print(\"There is one patient of blood type\", i)\n",
    "        else:\n",
    "            print(\"There are\" ,List.count(i), \"patient of blood type\", i)"
   ]
  },
  {
   "cell_type": "code",
   "execution_count": 5,
   "id": "3ae1899c",
   "metadata": {},
   "outputs": [
    {
     "name": "stdout",
     "output_type": "stream",
     "text": [
      "There are 15 patient of blood type A\n",
      "There are 13 patient of blood type AB\n",
      "There is one patient of blood type B\n",
      "There are 15 patient of blood type O\n",
      "There is no patient of blood type OO\n"
     ]
    }
   ],
   "source": [
    "bldcount(\"bloodtype1.txt\")"
   ]
  },
  {
   "cell_type": "markdown",
   "id": "732242ff",
   "metadata": {},
   "source": [
    "# Question 8"
   ]
  },
  {
   "cell_type": "markdown",
   "id": "c4e5ad9d",
   "metadata": {},
   "source": [
    "<h4>Write a function curconv() that takes as input:<br/>\n",
    "1. a currency represented using a string (e.g., 'JPY' for the Japanese Yen or 'EUR' for the Euro)<br/>\n",
    "2. an amount<br/>\n",
    "and then converts and returns the amount in US dollars.</h4>"
   ]
  },
  {
   "cell_type": "code",
   "execution_count": 6,
   "id": "6b1e887c",
   "metadata": {},
   "outputs": [],
   "source": [
    "#Open & read file and split contents into words\n",
    "def curconv(st,amnt):\n",
    "    file = open(\"currencies.txt\",\"r\")\n",
    "    f = file.read()\n",
    "    \n",
    "    #split words with tab in a file\n",
    "    cur = f.split('\\t')\n",
    "\n",
    "    #Some cur list entry contains newline character\n",
    "    #Split words if they have newline character and make a list of words\n",
    "    P = []\n",
    "    SubString = '\\n'\n",
    "    for i in cur:\n",
    "        if i.find(SubString):\n",
    "            SList = i.split('\\n')\n",
    "            for entry in SList:\n",
    "                P.append(entry)\n",
    "        else:\n",
    "            P.append(i)\n",
    "    \n",
    "    #get index of given string(Currency Representation word for ex.'JPY')\n",
    "    T = int(P.index(st))\n",
    "\n",
    "    #Check string has entry into word list and \n",
    "    #if it has, multiply the given amount with next immediate entry of the word list that is rate of currency as compared to US dollar\n",
    "    if st in P:\n",
    "    #print(\"Present\")\n",
    "        print('\\n')\n",
    "        return amnt * float(P[T + 1])\n"
   ]
  },
  {
   "cell_type": "code",
   "execution_count": 7,
   "id": "46f0042f",
   "metadata": {},
   "outputs": [
    {
     "name": "stdout",
     "output_type": "stream",
     "text": [
      "\n",
      "\n"
     ]
    },
    {
     "data": {
      "text/plain": [
       "122.96544"
      ]
     },
     "execution_count": 7,
     "metadata": {},
     "output_type": "execute_result"
    }
   ],
   "source": [
    "curconv('EUR', 100)"
   ]
  },
  {
   "cell_type": "code",
   "execution_count": 8,
   "id": "61727b7d",
   "metadata": {},
   "outputs": [
    {
     "name": "stdout",
     "output_type": "stream",
     "text": [
      "\n",
      "\n"
     ]
    },
    {
     "data": {
      "text/plain": [
       "1.241401"
      ]
     },
     "execution_count": 8,
     "metadata": {},
     "output_type": "execute_result"
    }
   ],
   "source": [
    "curconv('JPY', 100)"
   ]
  },
  {
   "cell_type": "markdown",
   "id": "329d283b",
   "metadata": {},
   "source": [
    "# Question 9"
   ]
  },
  {
   "cell_type": "markdown",
   "id": "6385034a",
   "metadata": {},
   "source": [
    "<h4>Each of the following will cause an exception (an error). Identify what type of exception each will cause.</h4>"
   ]
  },
  {
   "cell_type": "markdown",
   "id": "418f86d3",
   "metadata": {},
   "source": [
    "| Expression/Operation | ExceptionType | Desciption |\n",
    "| :--- | :---  | --- |\n",
    "| 6 + 'a' | TypeError | Unsupported operand type for + (int , str)  |\n",
    "| Accessing 12th item from list of size 10 | IndexError |  List index out of range |\n",
    "| Using value that is out of range for function | ValueError | Domain Error |\n",
    "| Print Undefined variable | NameError |  Name of variable not defined |\n",
    "| Open file that not exists | FileNotFoundError |  No such file or directory: 'file_name' |"
   ]
  },
  {
   "cell_type": "markdown",
   "id": "52b093a0",
   "metadata": {},
   "source": [
    "# Question 10"
   ]
  },
  {
   "cell_type": "markdown",
   "id": "2ca6b8f8",
   "metadata": {},
   "source": [
    "<h4>Encryption is the process of hiding the meaning of a text by substituting letters in the message with other letters, according to some system. If the process is successful, no one but the intended recipient can understand the encrypted message. Cryptanalysis refers to attempts to undo the encryption, even if some details of the encryption are unknown (for example, if an encrypted message has been intercepted). The first step of cryptanalysis is often to build up a table of letter frequencies in the encrypted text.<br/><br/> Assume that the string letters is already defined as 'abcdefghijklmnopqrstuvwxyz'. <br/><br/>Write a function called frequencies() that takes a string as its only parameter, and returns a list of integers, showing the number of times each character appears in the text. Your function may ignore any characters that are not in letters.</h4>"
   ]
  },
  {
   "cell_type": "code",
   "execution_count": 9,
   "id": "a6ef0984",
   "metadata": {},
   "outputs": [],
   "source": [
    "def frequencies(string):\n",
    "    \n",
    "    letters = \"abcdefghijklmnopqrstuvwxyz\"\n",
    "    \n",
    "    P = [] \n",
    "   \n",
    "    #Make a list of input string where each character is converted to Lowercase\n",
    "    L = list(string.lower())\n",
    "\n",
    "    #Count frequency of each character of string letters in a given input string\n",
    "    #Whitespaces and other characters are ignored\n",
    "    for i in letters:\n",
    "        P.append(L.count(i))\n",
    "\n",
    "    print(P)"
   ]
  },
  {
   "cell_type": "code",
   "execution_count": 10,
   "id": "e9f5e9fb",
   "metadata": {},
   "outputs": [
    {
     "name": "stdout",
     "output_type": "stream",
     "text": [
      "[1, 1, 1, 3, 5, 1, 1, 2, 1, 0, 1, 0, 1, 2, 4, 0, 1, 2, 0, 3, 1, 0, 1, 1, 0, 0]\n"
     ]
    }
   ],
   "source": [
    "frequencies('The quick red fox got bored and went home.')"
   ]
  },
  {
   "cell_type": "code",
   "execution_count": 11,
   "id": "bfa2cb69",
   "metadata": {},
   "outputs": [
    {
     "name": "stdout",
     "output_type": "stream",
     "text": [
      "[1, 0, 0, 0, 1, 0, 0, 0, 0, 0, 0, 1, 0, 0, 0, 2, 0, 0, 0, 0, 0, 0, 0, 0, 0, 0]\n"
     ]
    }
   ],
   "source": [
    "frequencies('apple')"
   ]
  },
  {
   "cell_type": "markdown",
   "id": "cf8c0237",
   "metadata": {},
   "source": [
    "<h2>Resources</h2>\n",
    "<li>Lecture notes (week 1 - 3) -- <b>Thanks to Ethan</b></li>\n",
    "<li>https://www.w3schools.com/python/</li>\n",
    "<li>https://www.tutorialspoint.com/python/index.htm</li>\n",
    "<li>https://www.geeksforgeeks.org/python-programming-language/</li><br/>\n",
    "Resources are used for learn inbuilt methods"
   ]
  },
  {
   "cell_type": "code",
   "execution_count": null,
   "id": "f69acdf6",
   "metadata": {},
   "outputs": [],
   "source": []
  }
 ],
 "metadata": {
  "kernelspec": {
   "display_name": "Python 3",
   "language": "python",
   "name": "python3"
  },
  "language_info": {
   "codemirror_mode": {
    "name": "ipython",
    "version": 3
   },
   "file_extension": ".py",
   "mimetype": "text/x-python",
   "name": "python",
   "nbconvert_exporter": "python",
   "pygments_lexer": "ipython3",
   "version": "3.8.8"
  }
 },
 "nbformat": 4,
 "nbformat_minor": 5
}
